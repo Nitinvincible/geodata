{
  "cells": [
    {
      "cell_type": "markdown",
      "metadata": {
        "id": "dn67mj6lQKWS"
      },
      "source": [
        "# **Python Basics**\n",
        "**Values**\n",
        "\n",
        "*   A value is the fundamental thing that a program manipulates\n",
        "*   Values can be ‘Hello Python’, 1 , True\n",
        "Values have types."
      ]
    },
    {
      "cell_type": "markdown",
      "metadata": {
        "id": "6Lz9f6OkSWgP"
      },
      "source": [
        "# **Variable**\n",
        "1.   One of the most basic and powerful concepts is\n",
        "that of a variable.\n",
        "2.   A variable assigns a name to a value.\n",
        "Variables are nothing more than reserved memory locations that store values.\n",
        "3. Python variables does not need explicit declaration to reserve memory.\n",
        "4.Unlike C/C++ and Java, variables can change types\n"
      ]
    },
    {
      "cell_type": "code",
      "execution_count": 8,
      "metadata": {
        "id": "HAFYqNsLRYBg"
      },
      "outputs": [],
      "source": [
        "message = 'Hello Python!'"
      ]
    },
    {
      "cell_type": "code",
      "execution_count": 9,
      "metadata": {
        "colab": {
          "base_uri": "https://localhost:8080/"
        },
        "id": "Rg2iYRZ7j_Vv",
        "outputId": "b9521ef3-3c82-4098-c2f7-1fc382376fcc"
      },
      "outputs": [
        {
          "name": "stdout",
          "output_type": "stream",
          "text": [
            "Hello Python!\n"
          ]
        }
      ],
      "source": [
        "print(message)"
      ]
    },
    {
      "cell_type": "markdown",
      "metadata": {
        "id": "Mk8oNLa7j_Vv"
      },
      "source": [
        "# **Data Types**\n",
        "\n",
        "\n",
        "### 1.   Numeric Types\n",
        "\n",
        "\n",
        "*   Integer Types: 92, 12, 0, 1\n",
        "*   Floats (Floating point numbers): 3.1415\n",
        "*   Complex Numbers: a + b*i (composed of real and imaginary component, both of which are floats a + b*i)\n",
        "*   Booleans: True/False are a subtype of integers (0 is false, 1 is true)\n",
        "\n",
        "2.   Strings\n",
        "*   ‘Hello Python’\n",
        "*  'India'\n",
        "\n",
        "3.  Sequence types:\n",
        "\n",
        "\n",
        "*   Lists : [1,2,3,4,5]\n",
        "*   Tuples: (1, 2)\n",
        "*   Ranges:"
      ]
    },
    {
      "cell_type": "code",
      "execution_count": 10,
      "metadata": {
        "colab": {
          "base_uri": "https://localhost:8080/"
        },
        "id": "rUUu3yWjj_Vw",
        "outputId": "8d4a411c-e5e8-4d24-de2e-671220622600"
      },
      "outputs": [
        {
          "name": "stdout",
          "output_type": "stream",
          "text": [
            "<class 'int'>\n",
            "<class 'float'>\n"
          ]
        }
      ],
      "source": [
        "x = 1         # assign variable x the value 1\n",
        "y = x + 5     # assign variable y the value of x plus 5\n",
        "print(type(x))\n",
        "z = y         # assign variable z the value of y\n",
        "a = 10.5      # assign variable a the value of 10.5 float\n",
        "b = True      # assign variable b the value True boolean\n",
        "x = 10.5\n",
        "\n",
        "print(type(x))"
      ]
    },
    {
      "cell_type": "code",
      "execution_count": 11,
      "metadata": {
        "colab": {
          "base_uri": "https://localhost:8080/"
        },
        "id": "CDbkWtNvj_Vw",
        "outputId": "b98d6ddf-10b7-4836-f0f8-84d6a1c213ea"
      },
      "outputs": [
        {
          "name": "stdout",
          "output_type": "stream",
          "text": [
            "<class 'str'>\n"
          ]
        }
      ],
      "source": [
        "x = 'Hello'\n",
        "print(type(x))"
      ]
    },
    {
      "cell_type": "code",
      "execution_count": 12,
      "metadata": {
        "id": "PSZyYjnuj_Vx"
      },
      "outputs": [],
      "source": [
        "name = 'Python'\n",
        "\n",
        "name_1 = 'Python1'"
      ]
    },
    {
      "cell_type": "code",
      "execution_count": 13,
      "metadata": {
        "colab": {
          "base_uri": "https://localhost:8080/",
          "height": 143
        },
        "id": "e4wwDIZyj_Vx",
        "outputId": "e95b144a-a8fe-4280-9b07-dc0d7f88c40a"
      },
      "outputs": [
        {
          "ename": "SyntaxError",
          "evalue": "invalid decimal literal (2482729233.py, line 1)",
          "output_type": "error",
          "traceback": [
            "\u001b[1;36m  Cell \u001b[1;32mIn[13], line 1\u001b[1;36m\u001b[0m\n\u001b[1;33m    1name = 'Python'\u001b[0m\n\u001b[1;37m    ^\u001b[0m\n\u001b[1;31mSyntaxError\u001b[0m\u001b[1;31m:\u001b[0m invalid decimal literal\n"
          ]
        }
      ],
      "source": [
        "1name = 'Python'"
      ]
    },
    {
      "cell_type": "code",
      "execution_count": null,
      "metadata": {
        "colab": {
          "base_uri": "https://localhost:8080/",
          "height": 143
        },
        "id": "3uNRCTdPj_Vx",
        "outputId": "3cbc86e4-495f-4dfa-df37-84b3d729cf84"
      },
      "outputs": [
        {
          "ename": "SyntaxError",
          "evalue": "invalid syntax (<ipython-input-10-86e81de2c8a8>, line 1)",
          "output_type": "error",
          "traceback": [
            "\u001b[0;36m  File \u001b[0;32m\"<ipython-input-10-86e81de2c8a8>\"\u001b[0;36m, line \u001b[0;32m1\u001b[0m\n\u001b[0;31m    def  = 10\u001b[0m\n\u001b[0m         ^\u001b[0m\n\u001b[0;31mSyntaxError\u001b[0m\u001b[0;31m:\u001b[0m invalid syntax\n"
          ]
        }
      ],
      "source": [
        "def  = 10\n"
      ]
    },
    {
      "cell_type": "code",
      "execution_count": null,
      "metadata": {
        "colab": {
          "base_uri": "https://localhost:8080/"
        },
        "id": "6FJH7C_Kj_Vy",
        "outputId": "3a39ed3b-66fb-477c-f659-0ea32c1ca415"
      },
      "outputs": [
        {
          "name": "stdout",
          "output_type": "stream",
          "text": [
            "<class 'int'>\n"
          ]
        }
      ],
      "source": [
        "x = 1       # integer\n",
        "x = 1.0     # decimal (floating point)\n",
        "x = 10\n",
        "print(type(x)) # outputs: <class 'int'>\n",
        "\n"
      ]
    },
    {
      "cell_type": "code",
      "execution_count": null,
      "metadata": {
        "colab": {
          "base_uri": "https://localhost:8080/"
        },
        "id": "-g14Rdeyj_Vy",
        "outputId": "3e34ebec-fb3c-4d3f-a793-074cc6e98258"
      },
      "outputs": [
        {
          "name": "stdout",
          "output_type": "stream",
          "text": [
            "<class 'float'>\n",
            "<class 'bool'>\n",
            "<class 'bool'>\n"
          ]
        }
      ],
      "source": [
        "x = 10.0\n",
        "print(type(x)) # outputs: <class 'float'>\n",
        "x = True\n",
        "\n",
        "print(type(x))\n",
        "\n",
        "y = False\n",
        "\n",
        "print(type(y))\n"
      ]
    },
    {
      "cell_type": "code",
      "execution_count": null,
      "metadata": {
        "id": "ZWIUL9dyj_Vy"
      },
      "outputs": [],
      "source": [
        "x = 'This is a string'\n",
        "print(x) # outputs: This is a string\n",
        "print(type(x)) # outputs: <class 'str'>\n",
        "y = \"This is also a string\"\n",
        "x = 'Hello' + ' ' + 'World!'\n",
        "print(x) # outputs: Hello World!\n"
      ]
    },
    {
      "cell_type": "code",
      "execution_count": null,
      "metadata": {
        "id": "BQNZf-tJj_Vy"
      },
      "outputs": [],
      "source": [
        "planets_in_solar_system = 8 # int, pluto used to be the 9th planet, but is too small\n",
        "distance_to_alpha_centauri = 4.367 # float, lightyears\n",
        "can_liftoff = True\n",
        "shuttle_landed_on_the_moon = \"Apollo 11\" #string"
      ]
    },
    {
      "cell_type": "markdown",
      "metadata": {
        "id": "KBzzvVy7SUsn"
      },
      "source": [
        "# **Modules**\n",
        "\n",
        "\n",
        "1.   module is a file containing Python definitions and statements\n",
        "2.   not all functionality available comes automatically when starting Python\n",
        "1.   extra functionality can be added by importing modules\n",
        "1.   objects in the module can be accessed  by prefixing them with the module name\n"
      ]
    },
    {
      "cell_type": "code",
      "execution_count": null,
      "metadata": {
        "id": "8NClhVnOUXB4"
      },
      "outputs": [],
      "source": [
        "import math"
      ]
    },
    {
      "cell_type": "code",
      "execution_count": null,
      "metadata": {
        "colab": {
          "base_uri": "https://localhost:8080/"
        },
        "id": "VYYszojTUcja",
        "outputId": "35d02d0c-fa3c-40bf-9661-a389c1ec9e17"
      },
      "outputs": [
        {
          "data": {
            "text/plain": [
              "8.0"
            ]
          },
          "execution_count": 14,
          "metadata": {},
          "output_type": "execute_result"
        }
      ],
      "source": [
        "math.pow(2 , 3)"
      ]
    },
    {
      "cell_type": "code",
      "execution_count": 14,
      "metadata": {
        "id": "dw1CrEkKUhsQ"
      },
      "outputs": [],
      "source": [
        "import random"
      ]
    },
    {
      "cell_type": "code",
      "execution_count": 17,
      "metadata": {
        "colab": {
          "base_uri": "https://localhost:8080/"
        },
        "id": "nv8eGoDlUkU0",
        "outputId": "165bc4fb-6b4c-466f-b2ff-feeae55198ae"
      },
      "outputs": [
        {
          "data": {
            "text/plain": [
              "48"
            ]
          },
          "execution_count": 17,
          "metadata": {},
          "output_type": "execute_result"
        }
      ],
      "source": [
        "random.randint(1, 70)"
      ]
    },
    {
      "cell_type": "code",
      "execution_count": null,
      "metadata": {
        "id": "yuFTSI2vj_Vz"
      },
      "outputs": [],
      "source": [
        "from pathlib import Path"
      ]
    },
    {
      "cell_type": "markdown",
      "metadata": {
        "id": "hPbJ2ARkVG5s"
      },
      "source": [
        "Comments Start with a `#`"
      ]
    },
    {
      "cell_type": "code",
      "execution_count": null,
      "metadata": {
        "id": "EPgCjpj7VSTW"
      },
      "outputs": [],
      "source": [
        "# This is a comment"
      ]
    },
    {
      "cell_type": "markdown",
      "metadata": {
        "id": "WtM-m8QYgxdo"
      },
      "source": [
        "**Putting All things together**\n",
        "\n",
        "---\n",
        "\n",
        "\n",
        "Now we will write a program to calculate Simple Intrest"
      ]
    },
    {
      "cell_type": "code",
      "execution_count": null,
      "metadata": {
        "id": "RcwbGI4VgyqL"
      },
      "outputs": [],
      "source": [
        "rate = 10"
      ]
    },
    {
      "cell_type": "code",
      "execution_count": null,
      "metadata": {
        "id": "rV3JEeWOg-jS"
      },
      "outputs": [],
      "source": [
        "principle = 1000"
      ]
    },
    {
      "cell_type": "code",
      "execution_count": null,
      "metadata": {
        "id": "JstjzE2Mg-l6"
      },
      "outputs": [],
      "source": [
        "time = 3"
      ]
    },
    {
      "cell_type": "code",
      "execution_count": null,
      "metadata": {
        "id": "6vjVhnsqgzV2"
      },
      "outputs": [],
      "source": [
        "intrest = (rate * principle * time)/100"
      ]
    },
    {
      "cell_type": "code",
      "execution_count": null,
      "metadata": {
        "colab": {
          "base_uri": "https://localhost:8080/"
        },
        "id": "LO_i2T1hgzdy",
        "outputId": "008ccbb5-81b1-4c25-8671-961c03c81e1a"
      },
      "outputs": [
        {
          "name": "stdout",
          "output_type": "stream",
          "text": [
            "Intrest is  300.0\n"
          ]
        }
      ],
      "source": [
        "print('Intrest is ', intrest)"
      ]
    },
    {
      "cell_type": "markdown",
      "metadata": {
        "id": "al7CL_brj_V0"
      },
      "source": [
        "## Operations"
      ]
    },
    {
      "cell_type": "code",
      "execution_count": null,
      "metadata": {
        "id": "wc631X5Wj_V0"
      },
      "outputs": [],
      "source": [
        "answer = 30 + 12\n",
        "print(answer)\n",
        "\n",
        "# Output: 42"
      ]
    },
    {
      "cell_type": "code",
      "execution_count": null,
      "metadata": {
        "id": "_6_SsZCwj_V0"
      },
      "outputs": [],
      "source": [
        "difference = 30 - 12\n",
        "print(difference)"
      ]
    },
    {
      "cell_type": "code",
      "execution_count": null,
      "metadata": {
        "id": "5UshHAoqj_V0"
      },
      "outputs": [],
      "source": [
        "product = 30 * 12\n",
        "print(product)"
      ]
    },
    {
      "cell_type": "code",
      "execution_count": null,
      "metadata": {
        "colab": {
          "base_uri": "https://localhost:8080/"
        },
        "id": "tMVHAq1gj_V0",
        "outputId": "d9a88bd6-7454-4ce4-8195-c494cce4ff8c"
      },
      "outputs": [
        {
          "name": "stdout",
          "output_type": "stream",
          "text": [
            "2.5\n"
          ]
        }
      ],
      "source": [
        "quotient = 30 / 12\n",
        "print(quotient)"
      ]
    },
    {
      "cell_type": "code",
      "execution_count": null,
      "metadata": {
        "colab": {
          "base_uri": "https://localhost:8080/"
        },
        "id": "ZFHt5xi7j_V0",
        "outputId": "63e62c04-0d11-4705-ab50-731d51227666"
      },
      "outputs": [
        {
          "name": "stdout",
          "output_type": "stream",
          "text": [
            "2\n"
          ]
        }
      ],
      "source": [
        "seconds = 1042\n",
        "display_minutes = 30 // 12\n",
        "print(display_minutes)\n"
      ]
    },
    {
      "cell_type": "code",
      "execution_count": null,
      "metadata": {
        "id": "d98Pyt55j_V1"
      },
      "outputs": [],
      "source": [
        "seconds = 1042\n",
        "display_minutes = 1042 // 60\n",
        "display_seconds = 1042 % 60\n",
        "\n",
        "print(display_minutes)\n",
        "print(display_seconds)\n",
        "\n"
      ]
    },
    {
      "cell_type": "code",
      "execution_count": null,
      "metadata": {
        "id": "oSdZ5EEmj_V1"
      },
      "outputs": [],
      "source": [
        "endVelocity = 60\n",
        "startVelocity = 0\n",
        "acceleration = 9.8\n",
        "\n",
        "time = (endVelocity - startVelocity) / acceleration\n",
        "print(\"Time to reach desired velocity = \", time)"
      ]
    },
    {
      "cell_type": "markdown",
      "metadata": {
        "id": "rrx9xpuzXK7q"
      },
      "source": [
        "# **Indentation**\n",
        "1.  In Python, blocks of code are defined using indentation\n",
        "1.  The indentation within the block needs to be consistent\n",
        "1.  The first line with less indentation is outside of the block\n",
        "1.  The first line with more indentation starts a nested block\n",
        "1.  Often a colon appears at the start of a new block"
      ]
    },
    {
      "cell_type": "markdown",
      "metadata": {
        "id": "7UZxCjoUj_V1"
      },
      "source": [
        "## Conditionals"
      ]
    },
    {
      "cell_type": "code",
      "execution_count": null,
      "metadata": {
        "colab": {
          "base_uri": "https://localhost:8080/"
        },
        "id": "d4PWpHHHXDhK",
        "outputId": "b87bdd29-5438-4747-8090-56237b3d5ae9"
      },
      "outputs": [
        {
          "name": "stdout",
          "output_type": "stream",
          "text": [
            "x is less than 10\n",
            "Conditional Statements\n",
            "Inside\n",
            "outside if\n"
          ]
        }
      ],
      "source": [
        "x = 7\n",
        "if x<10:\n",
        "    print('x is less than 10')\n",
        "    print('Conditional Statements')\n",
        "    print('Inside')\n",
        "print('outside if')\n"
      ]
    },
    {
      "cell_type": "code",
      "execution_count": null,
      "metadata": {
        "colab": {
          "base_uri": "https://localhost:8080/"
        },
        "id": "2G4Rb7JKkn9O",
        "outputId": "d153394e-4e83-4fb3-f775-e431aa2add51"
      },
      "outputs": [
        {
          "name": "stdout",
          "output_type": "stream",
          "text": [
            "n does not equal 1\n",
            "This is not part of the condition\n"
          ]
        }
      ],
      "source": [
        "n = 10\n",
        "if n == 1:\n",
        "    print('n equals 1')\n",
        "else:\n",
        "    print('n does not equal 1')\n",
        "print('This is not part of the condition')"
      ]
    },
    {
      "cell_type": "markdown",
      "metadata": {
        "id": "8c0LlH1Sj_V5"
      },
      "source": [
        "## `and` and `or` operators"
      ]
    },
    {
      "cell_type": "code",
      "execution_count": null,
      "metadata": {
        "colab": {
          "base_uri": "https://localhost:8080/"
        },
        "id": "QuOxzxtzj_V5",
        "outputId": "22e65a59-ceda-40bf-bdb9-b4ee29d6a8c9"
      },
      "outputs": [
        {
          "name": "stdout",
          "output_type": "stream",
          "text": [
            "57\n"
          ]
        }
      ],
      "source": [
        "a = 23\n",
        "b = 34\n",
        "if a == 34 or b == 34:\n",
        "    print(a + b)\n"
      ]
    },
    {
      "cell_type": "code",
      "execution_count": null,
      "metadata": {
        "id": "YXW7XLA5j_V6"
      },
      "outputs": [],
      "source": [
        "a = 23\n",
        "b = 34\n",
        "if a == 34 and b == 34:\n",
        "    print (a + b)"
      ]
    },
    {
      "cell_type": "markdown",
      "metadata": {
        "id": "M8HNmISRXyw_"
      },
      "source": [
        "# **Strings**\n",
        "\n",
        "*   Strings are text values like ‘Hello Anaconda’\n",
        "*   Strings can be enclosed in single quote ‘ ..’ or double quotes “…”\n",
        "\n"
      ]
    },
    {
      "cell_type": "code",
      "execution_count": null,
      "metadata": {
        "id": "Xpktx1m0j_V6"
      },
      "outputs": [],
      "source": [
        "moon_radius = \"The Moon has a radius of 1,080 miles\""
      ]
    },
    {
      "cell_type": "code",
      "execution_count": null,
      "metadata": {
        "colab": {
          "base_uri": "https://localhost:8080/"
        },
        "id": "PkN25zGIj_V6",
        "outputId": "37e9bd63-520c-4bb5-8b7c-8a73d44715fb"
      },
      "outputs": [
        {
          "name": "stdout",
          "output_type": "stream",
          "text": [
            "The Moon has a radius of 1,080 miles\n"
          ]
        }
      ],
      "source": [
        "print(moon_radius)"
      ]
    },
    {
      "cell_type": "code",
      "execution_count": null,
      "metadata": {
        "id": "QpS3jOJoj_V6"
      },
      "outputs": [],
      "source": [
        "fact = 'The \"near side\" is the part of the Moon that faces the Earth'"
      ]
    },
    {
      "cell_type": "code",
      "execution_count": null,
      "metadata": {
        "colab": {
          "base_uri": "https://localhost:8080/"
        },
        "id": "0c1HG-nKj_V6",
        "outputId": "7983f640-4569-4a04-fbc8-de1780b55234"
      },
      "outputs": [
        {
          "name": "stdout",
          "output_type": "stream",
          "text": [
            "The \"near side\" is the part of the Moon that faces the Earth\n"
          ]
        }
      ],
      "source": [
        "print(fact)"
      ]
    },
    {
      "cell_type": "code",
      "execution_count": null,
      "metadata": {
        "id": "2zIGw9swj_V6"
      },
      "outputs": [],
      "source": [
        "multi_line = '''Facts about the Moon:\n",
        "             There is no atmosphere.\n",
        "             There is no sound.'''"
      ]
    },
    {
      "cell_type": "code",
      "execution_count": null,
      "metadata": {
        "colab": {
          "base_uri": "https://localhost:8080/"
        },
        "id": "8PlV1_82j_V6",
        "outputId": "80fc7b41-b5b6-412a-b054-9a643a26170c"
      },
      "outputs": [
        {
          "name": "stdout",
          "output_type": "stream",
          "text": [
            "Facts about the Moon:\n",
            "             There is no atmosphere.\n",
            "             There is no sound.\n"
          ]
        }
      ],
      "source": [
        "print(multi_line)"
      ]
    },
    {
      "cell_type": "code",
      "execution_count": null,
      "metadata": {
        "colab": {
          "base_uri": "https://localhost:8080/"
        },
        "id": "Vnfp62lwj_V6",
        "outputId": "d76167e8-64db-4a72-c0d2-c2ee7608459e"
      },
      "outputs": [
        {
          "data": {
            "text/plain": [
              "False"
            ]
          },
          "execution_count": 42,
          "metadata": {},
          "output_type": "execute_result"
        }
      ],
      "source": [
        "\"Moon\" in \"This text will describe facts and challenges with space travel\""
      ]
    },
    {
      "cell_type": "code",
      "execution_count": null,
      "metadata": {
        "colab": {
          "base_uri": "https://localhost:8080/"
        },
        "id": "4GiQ7VbLj_V7",
        "outputId": "3aecc932-7166-4774-d771-b50071374e93"
      },
      "outputs": [
        {
          "data": {
            "text/plain": [
              "True"
            ]
          },
          "execution_count": 43,
          "metadata": {},
          "output_type": "execute_result"
        }
      ],
      "source": [
        "\"Moon\" in \"This text will describe facts about the Moon\""
      ]
    },
    {
      "cell_type": "code",
      "execution_count": null,
      "metadata": {
        "id": "kBH5dugpj_V7"
      },
      "outputs": [],
      "source": [
        "temperatures = \"\"\"Saturn has a daytime temperature of -170 degrees Celsius,\n",
        "                  while Mars has -28 Celsius.\"\"\""
      ]
    },
    {
      "cell_type": "code",
      "execution_count": null,
      "metadata": {
        "colab": {
          "base_uri": "https://localhost:8080/"
        },
        "id": "wLLBr-bAj_V7",
        "outputId": "04eeb7b3-01f4-4aa1-a004-05ccc2ac949d"
      },
      "outputs": [
        {
          "data": {
            "text/plain": [
              "-1"
            ]
          },
          "execution_count": 45,
          "metadata": {},
          "output_type": "execute_result"
        }
      ],
      "source": [
        "temperatures.find(\"Moon\")"
      ]
    },
    {
      "cell_type": "code",
      "execution_count": null,
      "metadata": {
        "colab": {
          "base_uri": "https://localhost:8080/"
        },
        "id": "omAlPYe4j_V7",
        "outputId": "2f8f63dd-e558-46ee-9939-70882d36312c"
      },
      "outputs": [
        {
          "data": {
            "text/plain": [
              "82"
            ]
          },
          "execution_count": 46,
          "metadata": {},
          "output_type": "execute_result"
        }
      ],
      "source": [
        "temperatures.find(\"Mars\")"
      ]
    },
    {
      "cell_type": "code",
      "execution_count": null,
      "metadata": {
        "colab": {
          "base_uri": "https://localhost:8080/"
        },
        "id": "QzNNOuu2j_V7",
        "outputId": "e7556eb7-1462-462d-cb8a-5fa29b658317"
      },
      "outputs": [
        {
          "data": {
            "text/plain": [
              "1"
            ]
          },
          "execution_count": 47,
          "metadata": {},
          "output_type": "execute_result"
        }
      ],
      "source": [
        "temperatures.count(\"Mars\")"
      ]
    },
    {
      "cell_type": "code",
      "execution_count": null,
      "metadata": {
        "colab": {
          "base_uri": "https://localhost:8080/"
        },
        "id": "3nv_ebVWj_V7",
        "outputId": "4888964e-f5f6-4ad5-8e87-debdfc85d232"
      },
      "outputs": [
        {
          "data": {
            "text/plain": [
              "0"
            ]
          },
          "execution_count": 48,
          "metadata": {},
          "output_type": "execute_result"
        }
      ],
      "source": [
        "temperatures.count(\"Moon\")"
      ]
    },
    {
      "cell_type": "code",
      "execution_count": null,
      "metadata": {
        "id": "yo9e7Omoj_V7"
      },
      "outputs": [],
      "source": [
        "\"The Moon And The Earth\".lower()"
      ]
    },
    {
      "cell_type": "markdown",
      "metadata": {
        "id": "IhwgUPTca3ul"
      },
      "source": [
        "Strings can be *indexed* (subscripted), with the first character having index 0."
      ]
    },
    {
      "cell_type": "code",
      "execution_count": 18,
      "metadata": {
        "id": "b75FJ4YzbCng"
      },
      "outputs": [],
      "source": [
        "word = \"Python\""
      ]
    },
    {
      "cell_type": "code",
      "execution_count": 22,
      "metadata": {
        "colab": {
          "base_uri": "https://localhost:8080/",
          "height": 36
        },
        "id": "URMkod3zbECa",
        "outputId": "ab0c4678-bdc1-45c1-a713-f510a780e13a"
      },
      "outputs": [
        {
          "data": {
            "text/plain": [
              "'P'"
            ]
          },
          "execution_count": 22,
          "metadata": {},
          "output_type": "execute_result"
        }
      ],
      "source": [
        "word[0]"
      ]
    },
    {
      "cell_type": "code",
      "execution_count": null,
      "metadata": {
        "colab": {
          "base_uri": "https://localhost:8080/",
          "height": 36
        },
        "id": "yMkBTqHObMoH",
        "outputId": "08f68f65-cb6d-4a4e-9fbd-624a0911861d"
      },
      "outputs": [
        {
          "data": {
            "application/vnd.google.colaboratory.intrinsic+json": {
              "type": "string"
            },
            "text/plain": [
              "'n'"
            ]
          },
          "execution_count": 51,
          "metadata": {},
          "output_type": "execute_result"
        }
      ],
      "source": [
        "word[5]"
      ]
    },
    {
      "cell_type": "markdown",
      "metadata": {
        "id": "hW2FQjJ7bPwF"
      },
      "source": [
        "indices may also be negative numbers, to start counting from the right."
      ]
    },
    {
      "cell_type": "code",
      "execution_count": null,
      "metadata": {
        "colab": {
          "base_uri": "https://localhost:8080/",
          "height": 36
        },
        "id": "PAXMPH3MbZd5",
        "outputId": "34b72836-b517-4a11-e2e6-f735244cbd7c"
      },
      "outputs": [
        {
          "data": {
            "application/vnd.google.colaboratory.intrinsic+json": {
              "type": "string"
            },
            "text/plain": [
              "'n'"
            ]
          },
          "execution_count": 52,
          "metadata": {},
          "output_type": "execute_result"
        }
      ],
      "source": [
        "word[-1]  # last character"
      ]
    },
    {
      "cell_type": "code",
      "execution_count": null,
      "metadata": {
        "colab": {
          "base_uri": "https://localhost:8080/",
          "height": 36
        },
        "id": "P4EsGGAxbcmB",
        "outputId": "83e82fe9-5de0-43ce-f68f-224a79cd7fee"
      },
      "outputs": [
        {
          "data": {
            "application/vnd.google.colaboratory.intrinsic+json": {
              "type": "string"
            },
            "text/plain": [
              "'o'"
            ]
          },
          "execution_count": 53,
          "metadata": {},
          "output_type": "execute_result"
        }
      ],
      "source": [
        "word[-2]  # second-last character"
      ]
    },
    {
      "cell_type": "markdown",
      "metadata": {
        "id": "kc8-b4hiblMZ"
      },
      "source": [
        "In addition to indexing, slicing is also supported. While indexing is used to obtain individual characters, slicing allows you to obtain substring:"
      ]
    },
    {
      "cell_type": "code",
      "execution_count": null,
      "metadata": {
        "colab": {
          "base_uri": "https://localhost:8080/",
          "height": 36
        },
        "id": "F5uhEkZxb4Hv",
        "outputId": "c003450f-28ee-4c91-d6ce-1f9a61e7c6b7"
      },
      "outputs": [
        {
          "data": {
            "application/vnd.google.colaboratory.intrinsic+json": {
              "type": "string"
            },
            "text/plain": [
              "'Py'"
            ]
          },
          "execution_count": 54,
          "metadata": {},
          "output_type": "execute_result"
        }
      ],
      "source": [
        "word[0:2]  # characters from position 0 (included) to 2 (excluded)"
      ]
    },
    {
      "cell_type": "code",
      "execution_count": null,
      "metadata": {
        "colab": {
          "base_uri": "https://localhost:8080/",
          "height": 36
        },
        "id": "5fXQRT1Rb61_",
        "outputId": "dc5218bb-4b73-4bd3-a731-a409c01f7890"
      },
      "outputs": [
        {
          "data": {
            "application/vnd.google.colaboratory.intrinsic+json": {
              "type": "string"
            },
            "text/plain": [
              "'tho'"
            ]
          },
          "execution_count": 55,
          "metadata": {},
          "output_type": "execute_result"
        }
      ],
      "source": [
        "word[2:5]  # characters from position 2 (included) to 5 (excluded)"
      ]
    },
    {
      "cell_type": "code",
      "execution_count": null,
      "metadata": {
        "id": "jTqtC6encKwX"
      },
      "outputs": [],
      "source": [
        "text = 'Put several strings within parentheses '+\\\n",
        "        'to have them joined together.'"
      ]
    },
    {
      "cell_type": "code",
      "execution_count": null,
      "metadata": {
        "colab": {
          "base_uri": "https://localhost:8080/",
          "height": 36
        },
        "id": "WdeVRixGcQ2o",
        "outputId": "d4b4fba9-a841-410c-91c5-5ae0ce1a4956"
      },
      "outputs": [
        {
          "data": {
            "application/vnd.google.colaboratory.intrinsic+json": {
              "type": "string"
            },
            "text/plain": [
              "'Put several strings within parentheses to have them joined together.'"
            ]
          },
          "execution_count": 57,
          "metadata": {},
          "output_type": "execute_result"
        }
      ],
      "source": [
        "text"
      ]
    },
    {
      "cell_type": "markdown",
      "metadata": {
        "id": "I8RMdemlccBf"
      },
      "source": [
        "# **Lists**\n",
        "1.  ordered sequence of information, accessible by index\n",
        "1.  a list is denoted by square brackets, [ ]\n",
        "1.  a list contains usually homogenous elements\n",
        "1.  list elements can be changed so a list is mutable\n"
      ]
    },
    {
      "cell_type": "code",
      "execution_count": null,
      "metadata": {
        "id": "ZI1eHrkLj_V9"
      },
      "outputs": [],
      "source": [
        "planets = [\"Mercury\", \"Venus\", \"Earth\", \"Mars\", \"Jupiter\", \"Saturn\", \"Uranus\", \"Neptune\"]"
      ]
    },
    {
      "cell_type": "code",
      "execution_count": null,
      "metadata": {
        "colab": {
          "base_uri": "https://localhost:8080/"
        },
        "id": "zPSF27Eej_V9",
        "outputId": "acbc0ac1-4c27-41f1-cd39-3c7732f8f2ba"
      },
      "outputs": [
        {
          "name": "stdout",
          "output_type": "stream",
          "text": [
            "The first planet is Mercury\n",
            "The second planet is Venus\n",
            "The third planet is Earth\n"
          ]
        }
      ],
      "source": [
        "print(\"The first planet is\", planets[0])\n",
        "print(\"The second planet is\", planets[1])\n",
        "print(\"The third planet is\", planets[2])\n"
      ]
    },
    {
      "cell_type": "code",
      "execution_count": null,
      "metadata": {
        "colab": {
          "base_uri": "https://localhost:8080/"
        },
        "id": "h6YziGG0j_V9",
        "outputId": "a847cffd-bc42-4503-edd4-85656969b4c5"
      },
      "outputs": [
        {
          "name": "stdout",
          "output_type": "stream",
          "text": [
            "Mars is also known as Red Planet\n"
          ]
        }
      ],
      "source": [
        "planets[3] = \"Red Planet\"\n",
        "print(\"Mars is also known as\", planets[3])"
      ]
    },
    {
      "cell_type": "code",
      "execution_count": null,
      "metadata": {
        "id": "jLBmRXR1j_V9"
      },
      "outputs": [],
      "source": [
        "number_of_planets = len(planets)\n",
        "print(\"There are\", number_of_planets, \"planets in the solar system.\")"
      ]
    },
    {
      "cell_type": "code",
      "execution_count": null,
      "metadata": {
        "id": "Ct82sA3mj_V9"
      },
      "outputs": [],
      "source": [
        "planets.append(\"Pluto\")\n",
        "number_of_planets = len(planets)\n",
        "print(\"There are actually\", number_of_planets, \"planets in the solar system.\")"
      ]
    },
    {
      "cell_type": "code",
      "execution_count": null,
      "metadata": {
        "id": "GMs7uv3aj_V9"
      },
      "outputs": [],
      "source": [
        "planets.pop()  # Goodbye, Pluto\n",
        "number_of_planets = len(planets)\n",
        "print(\"No, there are definitely\", number_of_planets, \"planets in the solar system.\")"
      ]
    },
    {
      "cell_type": "markdown",
      "metadata": {
        "id": "R6fhpG5pdg-3"
      },
      "source": [
        "# **Tuple**\n",
        "1.  tuple consists of a number of values separated by commas\n",
        "1.  cannot change element values, immutable\n",
        "1.  tuples always enclosed in parenthesis  \n",
        "1.  used to return more than one value from a function\n"
      ]
    },
    {
      "cell_type": "code",
      "execution_count": null,
      "metadata": {
        "id": "Xix0bfvvd5aX"
      },
      "outputs": [],
      "source": [
        "t = (12345, 54321, 'hello!')"
      ]
    },
    {
      "cell_type": "code",
      "execution_count": null,
      "metadata": {
        "colab": {
          "base_uri": "https://localhost:8080/"
        },
        "id": "KPV12u48j_WA",
        "outputId": "4b20cf44-c90d-4936-f9b4-97c3c7278472"
      },
      "outputs": [
        {
          "data": {
            "text/plain": [
              "(12345, 54321, 'hello!')"
            ]
          },
          "execution_count": 62,
          "metadata": {},
          "output_type": "execute_result"
        }
      ],
      "source": [
        "t"
      ]
    },
    {
      "cell_type": "code",
      "execution_count": null,
      "metadata": {
        "colab": {
          "base_uri": "https://localhost:8080/"
        },
        "id": "uzzkk45jd6c_",
        "outputId": "4df7b354-6d9b-4044-be05-dcb6686f6835"
      },
      "outputs": [
        {
          "data": {
            "text/plain": [
              "12345"
            ]
          },
          "execution_count": 63,
          "metadata": {},
          "output_type": "execute_result"
        }
      ],
      "source": [
        "t[0]"
      ]
    },
    {
      "cell_type": "code",
      "execution_count": null,
      "metadata": {
        "id": "vt8EPmhld6fj"
      },
      "outputs": [],
      "source": [
        "u = t, (1, 2, 3, 4, 5) # Tuples may be nested:"
      ]
    },
    {
      "cell_type": "code",
      "execution_count": null,
      "metadata": {
        "colab": {
          "base_uri": "https://localhost:8080/"
        },
        "id": "ZfODh697d6iW",
        "outputId": "f42fb575-2912-4e52-f251-ea2ec6aa7467"
      },
      "outputs": [
        {
          "data": {
            "text/plain": [
              "((12345, 54321, 'hello!'), (1, 2, 3, 4, 5))"
            ]
          },
          "execution_count": 65,
          "metadata": {},
          "output_type": "execute_result"
        }
      ],
      "source": [
        "u"
      ]
    },
    {
      "cell_type": "code",
      "execution_count": null,
      "metadata": {
        "colab": {
          "base_uri": "https://localhost:8080/",
          "height": 179
        },
        "id": "sDA1ZSu1eCiv",
        "outputId": "5fe3fea9-ad78-40ec-9e13-cf7020b41ebd"
      },
      "outputs": [
        {
          "ename": "TypeError",
          "evalue": "'tuple' object does not support item assignment",
          "output_type": "error",
          "traceback": [
            "\u001b[0;31m---------------------------------------------------------------------------\u001b[0m",
            "\u001b[0;31mTypeError\u001b[0m                                 Traceback (most recent call last)",
            "\u001b[0;32m<ipython-input-66-3094b927adb9>\u001b[0m in \u001b[0;36m<cell line: 1>\u001b[0;34m()\u001b[0m\n\u001b[0;32m----> 1\u001b[0;31m \u001b[0mt\u001b[0m\u001b[0;34m[\u001b[0m\u001b[0;36m0\u001b[0m\u001b[0;34m]\u001b[0m \u001b[0;34m=\u001b[0m \u001b[0;36m88888\u001b[0m \u001b[0;31m# Tuples are immutable:\u001b[0m\u001b[0;34m\u001b[0m\u001b[0;34m\u001b[0m\u001b[0m\n\u001b[0m",
            "\u001b[0;31mTypeError\u001b[0m: 'tuple' object does not support item assignment"
          ]
        }
      ],
      "source": [
        "t[0] = 88888 # Tuples are immutable:"
      ]
    },
    {
      "cell_type": "code",
      "execution_count": null,
      "metadata": {
        "colab": {
          "base_uri": "https://localhost:8080/"
        },
        "id": "1VLxENW7eCue",
        "outputId": "f6c91528-c7cb-40cb-96b8-0ca4f8ed0dd9"
      },
      "outputs": [
        {
          "name": "stdout",
          "output_type": "stream",
          "text": [
            "12345\n",
            "54321\n",
            "hello!\n"
          ]
        }
      ],
      "source": [
        "x, y, z = t\n",
        "print(x)\n",
        "print(y)\n",
        "print(z)"
      ]
    },
    {
      "cell_type": "markdown",
      "metadata": {
        "id": "Vh9wHyZveI-P"
      },
      "source": [
        "# **Sets**\n",
        "1.  A set is an unordered collection with no duplicate elements\n",
        "1.  set objects also support mathematical operations like union, intersection, difference, and symmetric difference\n"
      ]
    },
    {
      "cell_type": "code",
      "execution_count": null,
      "metadata": {
        "id": "C9jee1kyeVOo"
      },
      "outputs": [],
      "source": [
        "basket = {'apple', 'orange', 'apple', 'pear', 'orange', 'banana'}"
      ]
    },
    {
      "cell_type": "code",
      "execution_count": null,
      "metadata": {
        "id": "YGSk9J8Uj_WB"
      },
      "outputs": [],
      "source": [
        "basket_l = ['apple', 'orange', 'apple', 'pear', 'orange', 'banana']"
      ]
    },
    {
      "cell_type": "code",
      "execution_count": null,
      "metadata": {
        "colab": {
          "base_uri": "https://localhost:8080/"
        },
        "id": "ZTvM50MbeXqP",
        "outputId": "18f9f77e-f94c-481a-9ce6-49458e5ef0e4"
      },
      "outputs": [
        {
          "name": "stdout",
          "output_type": "stream",
          "text": [
            "['apple', 'orange', 'apple', 'pear', 'orange', 'banana']\n"
          ]
        }
      ],
      "source": [
        "print(basket_l)# show that duplicates have been removed"
      ]
    },
    {
      "cell_type": "code",
      "execution_count": null,
      "metadata": {
        "colab": {
          "base_uri": "https://localhost:8080/"
        },
        "id": "NyNCo1sTeXw8",
        "outputId": "f00f753d-a406-4e76-8bb8-a40e4c1d0ab3"
      },
      "outputs": [
        {
          "data": {
            "text/plain": [
              "True"
            ]
          },
          "execution_count": 72,
          "metadata": {},
          "output_type": "execute_result"
        }
      ],
      "source": [
        "'orange' in basket                 # fast membership testing"
      ]
    },
    {
      "cell_type": "code",
      "execution_count": null,
      "metadata": {
        "colab": {
          "base_uri": "https://localhost:8080/"
        },
        "id": "v7c1GMO1eXzI",
        "outputId": "49de2470-0ca2-4797-9e34-5e87b12b6be1"
      },
      "outputs": [
        {
          "data": {
            "text/plain": [
              "False"
            ]
          },
          "execution_count": 73,
          "metadata": {},
          "output_type": "execute_result"
        }
      ],
      "source": [
        "'crabgrass' in basket"
      ]
    },
    {
      "cell_type": "code",
      "execution_count": null,
      "metadata": {
        "id": "6nGkzukqeX1W"
      },
      "outputs": [],
      "source": [
        "a = set('abracadabra')\n",
        "b = set('alacazam')"
      ]
    },
    {
      "cell_type": "code",
      "execution_count": null,
      "metadata": {
        "colab": {
          "base_uri": "https://localhost:8080/"
        },
        "id": "i8bFAaDnei9H",
        "outputId": "3d50338f-9a79-4f55-dfb7-d1e8c0ff3646"
      },
      "outputs": [
        {
          "data": {
            "text/plain": [
              "{'b', 'd', 'r'}"
            ]
          },
          "execution_count": 75,
          "metadata": {},
          "output_type": "execute_result"
        }
      ],
      "source": [
        "a - b"
      ]
    },
    {
      "cell_type": "markdown",
      "metadata": {
        "id": "9r0QoM-ceoCN"
      },
      "source": [
        "# **Dictionary**\n",
        "1.  dictionary is a set of key:value pairs\n",
        "1.  dictionaries are indexed by keys, which can be any immutable type\n",
        "1.  dictionary stores a value with some key and extracts the value given the key"
      ]
    },
    {
      "cell_type": "code",
      "execution_count": null,
      "metadata": {
        "colab": {
          "base_uri": "https://localhost:8080/"
        },
        "id": "toSCsARTe2ar",
        "outputId": "ec12fc90-c45f-4432-a473-0beba8d3546d"
      },
      "outputs": [
        {
          "data": {
            "text/plain": [
              "{'jack': 4098, 'sape': 4139, 'alpha': 1099, 'beta': 1000}"
            ]
          },
          "execution_count": 77,
          "metadata": {},
          "output_type": "execute_result"
        }
      ],
      "source": [
        "telephone = {'jack': 4098, 'sape': 4139,'alpha':1099,'beta':1000}\n",
        "telephone"
      ]
    },
    {
      "cell_type": "code",
      "execution_count": null,
      "metadata": {
        "colab": {
          "base_uri": "https://localhost:8080/"
        },
        "id": "mMEJKK86fDxy",
        "outputId": "c5c93417-6223-4669-cedd-df3f2ab04b0c"
      },
      "outputs": [
        {
          "data": {
            "text/plain": [
              "4098"
            ]
          },
          "execution_count": 78,
          "metadata": {},
          "output_type": "execute_result"
        }
      ],
      "source": [
        "telephone['jack']"
      ]
    },
    {
      "cell_type": "code",
      "execution_count": null,
      "metadata": {
        "colab": {
          "base_uri": "https://localhost:8080/"
        },
        "id": "tRW2pQcEfHom",
        "outputId": "ff76ab71-e4b6-4a23-e74b-456ec071bfad"
      },
      "outputs": [
        {
          "data": {
            "text/plain": [
              "{'jack': 4098, 'sape': 4139, 'alpha': 1099, 'beta': 1000, 'king': 4127}"
            ]
          },
          "execution_count": 79,
          "metadata": {},
          "output_type": "execute_result"
        }
      ],
      "source": [
        "telephone['king'] = 4127\n",
        "telephone"
      ]
    },
    {
      "cell_type": "code",
      "execution_count": null,
      "metadata": {
        "id": "liQ3l3lJfJvd"
      },
      "outputs": [],
      "source": [
        "del telephone['sape']"
      ]
    },
    {
      "cell_type": "code",
      "execution_count": null,
      "metadata": {
        "id": "LZ-sBqtZj_WC"
      },
      "outputs": [],
      "source": [
        "telephone"
      ]
    },
    {
      "cell_type": "code",
      "execution_count": null,
      "metadata": {
        "colab": {
          "base_uri": "https://localhost:8080/"
        },
        "id": "gwKaA1oSfNkL",
        "outputId": "36d1fb2a-b9e1-46fa-c735-8126db7a8315"
      },
      "outputs": [
        {
          "data": {
            "text/plain": [
              "True"
            ]
          },
          "execution_count": 81,
          "metadata": {},
          "output_type": "execute_result"
        }
      ],
      "source": [
        "'jack' in telephone"
      ]
    },
    {
      "cell_type": "markdown",
      "metadata": {
        "id": "6gppWw-rj_WC"
      },
      "source": [
        "## While and For Loops"
      ]
    },
    {
      "cell_type": "code",
      "execution_count": null,
      "metadata": {
        "colab": {
          "base_uri": "https://localhost:8080/"
        },
        "id": "gIpdR5iaj_WC",
        "outputId": "73c41a64-c382-46c7-99f3-1f153c081812"
      },
      "outputs": [
        {
          "name": "stdout",
          "output_type": "stream",
          "text": [
            "Enter a new value, or done when done1\n",
            "Enter a new value, or done when done2\n",
            "Enter a new value, or done when donedone\n"
          ]
        }
      ],
      "source": [
        "user_input = ''\n",
        "\n",
        "while user_input.lower() != 'done':\n",
        "    user_input = input('Enter a new value, or done when done')"
      ]
    },
    {
      "cell_type": "code",
      "execution_count": null,
      "metadata": {
        "id": "kY2XuEBxj_WC"
      },
      "outputs": [],
      "source": [
        "# Create the variable for user input\n",
        "user_input = ''\n",
        "# Create the list to store the values\n",
        "inputs = []\n",
        "\n",
        "# The while loop\n",
        "while user_input.lower() != 'done':\n",
        "    # Check if there's a value in user_input\n",
        "    if user_input:\n",
        "        # Store the value in the list\n",
        "        inputs.append(user_input)\n",
        "    # Prompt for a new value\n",
        "    user_input = input('Enter a new value, or done when done')"
      ]
    },
    {
      "cell_type": "code",
      "execution_count": null,
      "metadata": {
        "colab": {
          "base_uri": "https://localhost:8080/"
        },
        "id": "xnfdd50Lj_WC",
        "outputId": "552524e9-40ef-4cc9-caf3-26fd9bf2644c"
      },
      "outputs": [
        {
          "name": "stdout",
          "output_type": "stream",
          "text": [
            "4\n",
            "3\n",
            "2\n",
            "1\n",
            "0\n",
            "Blast off!! 🚀\n"
          ]
        }
      ],
      "source": [
        "countdown = [4, 3, 2, 1, 0]\n",
        "for number in countdown:\n",
        "    print(number)\n",
        "print(\"Blast off!! 🚀\")"
      ]
    },
    {
      "cell_type": "code",
      "execution_count": null,
      "metadata": {
        "colab": {
          "base_uri": "https://localhost:8080/"
        },
        "id": "l_0iL0_kj_WD",
        "outputId": "46f92dc7-ff04-4ab8-a36b-1274f70d6603"
      },
      "outputs": [
        {
          "name": "stdout",
          "output_type": "stream",
          "text": [
            "4\n",
            "3\n",
            "2\n",
            "1\n",
            "0\n",
            "Blast off!! 🚀\n"
          ]
        }
      ],
      "source": [
        "from time import sleep\n",
        "\n",
        "countdown = [4, 3, 2, 1, 0]\n",
        "\n",
        "for number in countdown:\n",
        "    print(number)\n",
        "    sleep(1)  # Wait 1 second\n",
        "print(\"Blast off!! 🚀\")"
      ]
    },
    {
      "cell_type": "markdown",
      "metadata": {
        "id": "yRPlTSNqjh-k"
      },
      "source": [
        "### To iterate over a sequence of numbers, the built-in function range() comes in handy."
      ]
    },
    {
      "cell_type": "code",
      "execution_count": null,
      "metadata": {
        "colab": {
          "base_uri": "https://localhost:8080/"
        },
        "id": "hBKp01cOji_V",
        "outputId": "1ad8cecb-5603-446d-bbd2-03fd45fc9624"
      },
      "outputs": [
        {
          "name": "stdout",
          "output_type": "stream",
          "text": [
            "0,1,2,3,4,"
          ]
        }
      ],
      "source": [
        "for i in range(5):\n",
        "    print(i,end=',')"
      ]
    },
    {
      "cell_type": "code",
      "execution_count": null,
      "metadata": {
        "colab": {
          "base_uri": "https://localhost:8080/"
        },
        "id": "aUl6XPMwjltB",
        "outputId": "633c82d8-4e0e-45b6-db01-86ebd72e67c0"
      },
      "outputs": [
        {
          "name": "stdout",
          "output_type": "stream",
          "text": [
            "5,6,7,8,9,"
          ]
        }
      ],
      "source": [
        "for i in range(5,10):\n",
        "    print(i,end=',')"
      ]
    },
    {
      "cell_type": "code",
      "execution_count": null,
      "metadata": {
        "colab": {
          "base_uri": "https://localhost:8080/"
        },
        "id": "BSzGHOtkjnlS",
        "outputId": "50cb53f7-8273-4f07-be0a-30cc01a8d3bc"
      },
      "outputs": [
        {
          "name": "stdout",
          "output_type": "stream",
          "text": [
            "5,7,9,"
          ]
        }
      ],
      "source": [
        "for i in range(5,10,2):\n",
        "    print(i,end=',')"
      ]
    },
    {
      "cell_type": "markdown",
      "metadata": {
        "id": "uXkT38fRj36X"
      },
      "source": [
        "# **break  and continue Statements**\n",
        "1.  break statement breaks out of innermost enclosing for or while loop.\n",
        "1.  continue statement continues with the next iteration of the loop skipping remaining statements.\n"
      ]
    },
    {
      "cell_type": "code",
      "execution_count": null,
      "metadata": {
        "colab": {
          "base_uri": "https://localhost:8080/"
        },
        "id": "Yt7XFg4kkLum",
        "outputId": "4e1d96dc-0bce-4f7c-a887-5d3c8ce7cfdc"
      },
      "outputs": [
        {
          "name": "stdout",
          "output_type": "stream",
          "text": [
            "0\n",
            "1\n",
            "2\n",
            "3\n"
          ]
        }
      ],
      "source": [
        "for i in range(50):\n",
        "    if i==4:\n",
        "        break\n",
        "    print(i)"
      ]
    },
    {
      "cell_type": "code",
      "execution_count": null,
      "metadata": {
        "colab": {
          "base_uri": "https://localhost:8080/"
        },
        "id": "V5rvWy1vkTQ2",
        "outputId": "e9e5a7fe-8908-4783-f680-e2f825cf94b5"
      },
      "outputs": [
        {
          "name": "stdout",
          "output_type": "stream",
          "text": [
            "0\n",
            "1\n",
            "3\n",
            "4\n"
          ]
        }
      ],
      "source": [
        "for i in range(5):\n",
        "    if i==2:\n",
        "        continue\n",
        "    print(i)"
      ]
    },
    {
      "cell_type": "markdown",
      "metadata": {
        "id": "0abkz1sgkf-W"
      },
      "source": [
        "# **Write and call/invoke a function**\n",
        "If its find that  the same bits of code is reused over and over, you can create your own function and call that instead of         repeating the same code."
      ]
    },
    {
      "cell_type": "code",
      "execution_count": null,
      "metadata": {
        "id": "uVF2DO48j_WE"
      },
      "outputs": [],
      "source": [
        "def rocket_parts():\n",
        "    print(\"payload, propellant, structure\")"
      ]
    },
    {
      "cell_type": "code",
      "execution_count": null,
      "metadata": {
        "colab": {
          "base_uri": "https://localhost:8080/"
        },
        "id": "XJYGBkzkj_WE",
        "outputId": "0a2d90df-fbab-4617-c4b6-7b7d20b4c0d4"
      },
      "outputs": [
        {
          "name": "stdout",
          "output_type": "stream",
          "text": [
            "payload, propellant, structure\n"
          ]
        }
      ],
      "source": [
        "rocket_parts()\n",
        "\n"
      ]
    },
    {
      "cell_type": "code",
      "execution_count": null,
      "metadata": {
        "id": "B272Wrozj_WE"
      },
      "outputs": [],
      "source": [
        "def distance_from_earth(destination):\n",
        "    if destination == \"Moon\":\n",
        "        return \"238,855\"\n",
        "    else:\n",
        "        return \"Unable to compute to that destination\""
      ]
    },
    {
      "cell_type": "code",
      "execution_count": null,
      "metadata": {
        "id": "X-K3xgk8j_WE"
      },
      "outputs": [],
      "source": [
        "dist = distance_from_earth('Moon')"
      ]
    },
    {
      "cell_type": "code",
      "execution_count": null,
      "metadata": {
        "id": "8490VGZKj_WE"
      },
      "outputs": [],
      "source": [
        "distance_from_earth(\"Moon\")"
      ]
    },
    {
      "cell_type": "code",
      "execution_count": null,
      "metadata": {
        "id": "0K9ukl8Dj_WE"
      },
      "outputs": [],
      "source": [
        "def days_to_complete(distance, speed):\n",
        "    hours = distance/speed\n",
        "    return hours/24"
      ]
    },
    {
      "cell_type": "code",
      "execution_count": null,
      "metadata": {
        "id": "MexxRzRuj_WE"
      },
      "outputs": [],
      "source": [
        "days_to_complete(238855, 90)"
      ]
    },
    {
      "cell_type": "markdown",
      "metadata": {
        "id": "BE0PSUtllsM-"
      },
      "source": [
        "# Reading File"
      ]
    },
    {
      "cell_type": "code",
      "execution_count": null,
      "metadata": {
        "colab": {
          "base_uri": "https://localhost:8080/"
        },
        "id": "mGkJTRPrlu9N",
        "outputId": "48461a84-aaaa-4b89-a3f3-a2da349fbe5a"
      },
      "outputs": [
        {
          "name": "stdout",
          "output_type": "stream",
          "text": [
            "Hello\n",
            "India\n",
            "Welcme\n"
          ]
        }
      ],
      "source": [
        "f = open('/content/sample_data/work.txt')\n",
        "\n",
        "lines = f.read() # Entire file is read\n",
        "print(lines)\n",
        "f.close()"
      ]
    },
    {
      "cell_type": "code",
      "execution_count": null,
      "metadata": {
        "id": "PrXcPZjll0VG"
      },
      "outputs": [],
      "source": [
        "f = open(r'/content/sample_data/work.txt','r')\n"
      ]
    },
    {
      "cell_type": "code",
      "execution_count": null,
      "metadata": {
        "colab": {
          "base_uri": "https://localhost:8080/"
        },
        "id": "IH5-x5MCFjHY",
        "outputId": "edd25a85-4337-4816-b232-0fa37b0cf7b1"
      },
      "outputs": [
        {
          "name": "stdout",
          "output_type": "stream",
          "text": [
            "Hello\n",
            "\n",
            "India\n",
            "\n",
            "Welcme\n"
          ]
        }
      ],
      "source": [
        "for line in f:\n",
        "    print(line)\n",
        "f.close()"
      ]
    },
    {
      "cell_type": "code",
      "execution_count": null,
      "metadata": {
        "id": "Por28t4Xl3Mt"
      },
      "outputs": [],
      "source": [
        "with open(r'd:\\work.txt','r')as f:\n",
        "    for line in f:\n",
        "        print(line,end='')"
      ]
    },
    {
      "cell_type": "markdown",
      "metadata": {
        "id": "sktW7ZQxl5eX"
      },
      "source": [
        "# Writing to file"
      ]
    },
    {
      "cell_type": "code",
      "execution_count": null,
      "metadata": {
        "id": "NLfKADh0l7-V"
      },
      "outputs": [],
      "source": [
        "value = ('the answer is ', 42)\n",
        "with open('workfile2.txt','w') as f:\n",
        "    s=str(value)\n",
        "    f.write(s)"
      ]
    },
    {
      "cell_type": "markdown",
      "metadata": {
        "id": "TCkvKpNyj_WI"
      },
      "source": [
        "## Thank You"
      ]
    },
    {
      "cell_type": "markdown",
      "metadata": {
        "id": "qJfz7WBSj_WI"
      },
      "source": []
    }
  ],
  "metadata": {
    "colab": {
      "provenance": []
    },
    "kernelspec": {
      "display_name": "sparkfun",
      "language": "python",
      "name": "python3"
    },
    "language_info": {
      "codemirror_mode": {
        "name": "ipython",
        "version": 3
      },
      "file_extension": ".py",
      "mimetype": "text/x-python",
      "name": "python",
      "nbconvert_exporter": "python",
      "pygments_lexer": "ipython3",
      "version": "3.12.4"
    },
    "vscode": {
      "interpreter": {
        "hash": "5cb7d9663dae2c5b767ba4220a04b14626d470bcea4df1ab6ee17d48fb4861c1"
      }
    }
  },
  "nbformat": 4,
  "nbformat_minor": 0
}
